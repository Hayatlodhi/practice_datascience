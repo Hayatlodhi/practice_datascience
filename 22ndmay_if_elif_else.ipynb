{
 "cells": [
  {
   "cell_type": "code",
   "execution_count": 7,
   "metadata": {},
   "outputs": [
    {
     "name": "stdout",
     "output_type": "stream",
     "text": [
      "This is my first condition \n"
     ]
    }
   ],
   "source": [
    "a = 10\n",
    "if a == 10:\n",
    "    print(\"This is my first condition \")"
   ]
  },
  {
   "cell_type": "code",
   "execution_count": 8,
   "metadata": {},
   "outputs": [],
   "source": [
    "a = 11\n",
    "if a > 5:\n",
    "    pass"
   ]
  },
  {
   "cell_type": "code",
   "execution_count": 9,
   "metadata": {},
   "outputs": [
    {
     "name": "stdout",
     "output_type": "stream",
     "text": [
      "this if condition is true\n"
     ]
    }
   ],
   "source": [
    "a = 10\n",
    "if a> 8:\n",
    "    print(\"this if condition is true\")"
   ]
  },
  {
   "cell_type": "code",
   "execution_count": 10,
   "metadata": {},
   "outputs": [],
   "source": [
    "a = 10\n",
    "if a< 8:\n",
    "    print(\"this if condition is true\")"
   ]
  },
  {
   "cell_type": "code",
   "execution_count": 13,
   "metadata": {},
   "outputs": [
    {
     "name": "stdout",
     "output_type": "stream",
     "text": [
      "print this\n"
     ]
    }
   ],
   "source": [
    "a = 10\n",
    "if a == 11:\n",
    "    print(\"My condtion is false\")\n",
    "else:\n",
    "    print(\"print this\")"
   ]
  },
  {
   "cell_type": "code",
   "execution_count": 16,
   "metadata": {},
   "outputs": [
    {
     "name": "stdout",
     "output_type": "stream",
     "text": [
      "if all the block are failed then print this block\n"
     ]
    }
   ],
   "source": [
    "a = 10\n",
    "if a == 12:\n",
    "    print(\"here we are tryinhg to comapre 10 with 12\")\n",
    "elif a==11:\n",
    "    print(\"we are trying to compare 10 with 11\")\n",
    "else:\n",
    "    print(\"if all the block are failed then print this block\")"
   ]
  },
  {
   "cell_type": "code",
   "execution_count": 24,
   "metadata": {},
   "outputs": [
    {
     "name": "stdout",
     "output_type": "stream",
     "text": [
      " for sure i will be able to buy\n"
     ]
    }
   ],
   "source": [
    "price = 500\n",
    "if price > 500:\n",
    "    print(\"may be i won't be able to buy a jacket\")\n",
    "elif price < 500:\n",
    "    print (\"I will be able to buy a jacket\")\n",
    "elif price == 500:\n",
    "    print(\" for sure i will be able to buy\")\n",
    "else:\n",
    "    print(\"I don't Know\")"
   ]
  },
  {
   "cell_type": "code",
   "execution_count": 25,
   "metadata": {},
   "outputs": [
    {
     "data": {
      "text/plain": [
       "True"
      ]
     },
     "execution_count": 25,
     "metadata": {},
     "output_type": "execute_result"
    }
   ],
   "source": [
    "l = [ 1,2,4,6,4,46,7]\n",
    "2 in l"
   ]
  },
  {
   "cell_type": "code",
   "execution_count": 28,
   "metadata": {},
   "outputs": [
    {
     "name": "stdout",
     "output_type": "stream",
     "text": [
      " do not perform this task\n"
     ]
    }
   ],
   "source": [
    "l = [ 1,2,4,6,4,46,7]\n",
    "if 60 in l:\n",
    "    print(\" try to perfrom a task\")\n",
    "else:\n",
    "    print(\" do not perform this task\")"
   ]
  },
  {
   "cell_type": "code",
   "execution_count": 31,
   "metadata": {},
   "outputs": [
    {
     "name": "stdout",
     "output_type": "stream",
     "text": [
      " try to do ddition\n"
     ]
    }
   ],
   "source": [
    "if 1 in l:\n",
    "    print(\" try to do ddition\")\n",
    "elif 2 in l:\n",
    "    print(\"try to do sub\")\n",
    "elif 4 in l:\n",
    "    print(\"try to do divide\")\n",
    "else:\n",
    "    print(\" do not perform this task\")"
   ]
  },
  {
   "cell_type": "code",
   "execution_count": 33,
   "metadata": {},
   "outputs": [
    {
     "name": "stdout",
     "output_type": "stream",
     "text": [
      "try to do sub\n",
      "this is new statement\n"
     ]
    }
   ],
   "source": [
    "if 10 in l:\n",
    "    print(\" try to do ddition\")\n",
    "elif 2 in l:\n",
    "    print(\"try to do sub\")\n",
    "elif 4 in l:\n",
    "    print(\"try to do divide\")\n",
    "else:\n",
    "    print(\" do not perform this task\")\n",
    "if 4 in l:\n",
    "    print(\"this is new statement\")"
   ]
  },
  {
   "cell_type": "code",
   "execution_count": 45,
   "metadata": {},
   "outputs": [],
   "source": [
    "b = int(input()) # now only enter integer value"
   ]
  },
  {
   "cell_type": "code",
   "execution_count": 46,
   "metadata": {},
   "outputs": [
    {
     "data": {
      "text/plain": [
       "656565"
      ]
     },
     "execution_count": 46,
     "metadata": {},
     "output_type": "execute_result"
    }
   ],
   "source": [
    "b\n"
   ]
  },
  {
   "cell_type": "code",
   "execution_count": 47,
   "metadata": {},
   "outputs": [
    {
     "data": {
      "text/plain": [
       "int"
      ]
     },
     "execution_count": 47,
     "metadata": {},
     "output_type": "execute_result"
    }
   ],
   "source": [
    "type(b)"
   ]
  },
  {
   "cell_type": "code",
   "execution_count": 48,
   "metadata": {},
   "outputs": [],
   "source": []
  },
  {
   "cell_type": "code",
   "execution_count": 2,
   "metadata": {},
   "outputs": [
    {
     "name": "stdout",
     "output_type": "stream",
     "text": [
      "600\n",
      "dont have money to buy\n",
      " lets try something new\n"
     ]
    }
   ],
   "source": [
    "c = int(input())\n",
    "print(c)\n",
    "if c < 500:\n",
    "    print(\" I will be able to buy something\")\n",
    "    if price < 400 :\n",
    "        print(\" i will be able to buy a jacket\")\n",
    "    elif price < 300:\n",
    "        print(\" i will be able to buy a shirt\")\n",
    "        if price < 200:\n",
    "            print(\" price is less then 200 \")\n",
    "    else:\n",
    "        print(\" i wont be able to buy anything\")\n",
    "else: \n",
    "    print(\"dont have money to buy\")\n",
    "    if c> 500:\n",
    "        print(' lets try something new')"
   ]
  },
  {
   "cell_type": "code",
   "execution_count": 3,
   "metadata": {},
   "outputs": [
    {
     "data": {
      "text/plain": [
       "600"
      ]
     },
     "execution_count": 3,
     "metadata": {},
     "output_type": "execute_result"
    }
   ],
   "source": [
    "c"
   ]
  },
  {
   "cell_type": "code",
   "execution_count": 2,
   "metadata": {},
   "outputs": [
    {
     "name": "stdout",
     "output_type": "stream",
     "text": [
      " NO GRE\n",
      "TOFEL\n"
     ]
    }
   ],
   "source": [
    "m = int(input())\n",
    "if m <600:\n",
    "    print(\" NO GRE\")\n",
    "    if m<500:\n",
    "        print(\"TOFEL\")\n",
    "        if m<400:\n",
    "             print(\"Try something else\")\n",
    "    else:\n",
    "        print(\" You got TOFEL\")\n",
    "else: \n",
    "    print(\" You got GRE congrats\")\n",
    "\n"
   ]
  },
  {
   "cell_type": "code",
   "execution_count": 6,
   "metadata": {},
   "outputs": [
    {
     "name": "stdout",
     "output_type": "stream",
     "text": [
      " Entered value is a negative number\n"
     ]
    }
   ],
   "source": [
    "val = float(input(\" enter a floating point number\"))\n",
    "if val >=0:\n",
    "    if val==0:\n",
    "        print(\" entered value is zero\")\n",
    "    else:\n",
    "        print(\"enter value is positive number\")\n",
    "else:\n",
    "    print(\" Entered value is a negative number\")\n"
   ]
  },
  {
   "cell_type": "code",
   "execution_count": null,
   "metadata": {},
   "outputs": [],
   "source": [
    "# 1:27"
   ]
  }
 ],
 "metadata": {
  "interpreter": {
   "hash": "780a354d57c8e214d9717ce5db3cb79ec448e2663d29d7e7694b88eee37d2c96"
  },
  "kernelspec": {
   "display_name": "Python 3.10.1 64-bit",
   "language": "python",
   "name": "python3"
  },
  "language_info": {
   "codemirror_mode": {
    "name": "ipython",
    "version": 3
   },
   "file_extension": ".py",
   "mimetype": "text/x-python",
   "name": "python",
   "nbconvert_exporter": "python",
   "pygments_lexer": "ipython3",
   "version": "3.10.1"
  },
  "orig_nbformat": 4
 },
 "nbformat": 4,
 "nbformat_minor": 2
}
