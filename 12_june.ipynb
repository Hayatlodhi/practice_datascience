{
 "cells": [
  {
   "cell_type": "code",
   "execution_count": 1,
   "metadata": {},
   "outputs": [
    {
     "ename": "ZeroDivisionError",
     "evalue": "division by zero",
     "output_type": "error",
     "traceback": [
      "\u001b[1;31m---------------------------------------------------------------------------\u001b[0m",
      "\u001b[1;31mZeroDivisionError\u001b[0m                         Traceback (most recent call last)",
      "\u001b[1;32mc:\\Users\\DELL\\Desktop\\Ineuron\\12_june.ipynb Cell 1'\u001b[0m in \u001b[0;36m<module>\u001b[1;34m\u001b[0m\n\u001b[0;32m      <a href='vscode-notebook-cell:/c%3A/Users/DELL/Desktop/Ineuron/12_june.ipynb#ch0000000?line=0'>1</a>\u001b[0m a \u001b[39m=\u001b[39m \u001b[39mint\u001b[39m(\u001b[39minput\u001b[39m(\u001b[39m'\u001b[39m\u001b[39mEnter value of a\u001b[39m\u001b[39m'\u001b[39m))\n\u001b[0;32m      <a href='vscode-notebook-cell:/c%3A/Users/DELL/Desktop/Ineuron/12_june.ipynb#ch0000000?line=1'>2</a>\u001b[0m b \u001b[39m=\u001b[39m \u001b[39mint\u001b[39m(\u001b[39minput\u001b[39m(\u001b[39m\"\u001b[39m\u001b[39mEnter value of b\u001b[39m\u001b[39m\"\u001b[39m))\n\u001b[1;32m----> <a href='vscode-notebook-cell:/c%3A/Users/DELL/Desktop/Ineuron/12_june.ipynb#ch0000000?line=2'>3</a>\u001b[0m c \u001b[39m=\u001b[39m a\u001b[39m/\u001b[39;49mb\n\u001b[0;32m      <a href='vscode-notebook-cell:/c%3A/Users/DELL/Desktop/Ineuron/12_june.ipynb#ch0000000?line=3'>4</a>\u001b[0m \u001b[39mprint\u001b[39m(c)\n",
      "\u001b[1;31mZeroDivisionError\u001b[0m: division by zero"
     ]
    }
   ],
   "source": [
    "a = int(input('Enter value of a'))\n",
    "b = int(input(\"Enter value of b\"))\n",
    "c = a/b\n",
    "print(c)"
   ]
  },
  {
   "cell_type": "code",
   "execution_count": 3,
   "metadata": {},
   "outputs": [
    {
     "name": "stdout",
     "output_type": "stream",
     "text": [
      "b should not be a zero\n"
     ]
    }
   ],
   "source": [
    "a = int(input('Enter value of a'))\n",
    "b = int(input(\"Enter value of b\"))\n",
    "try:\n",
    "    c = a/b\n",
    "    print(c)\n",
    "except:\n",
    "    print(\"b should not be a zero\")\n"
   ]
  },
  {
   "cell_type": "code",
   "execution_count": 1,
   "metadata": {},
   "outputs": [
    {
     "name": "stdout",
     "output_type": "stream",
     "text": [
      "b should not be a zero\n"
     ]
    }
   ],
   "source": [
    "a = int(input('Enter value of a'))\n",
    "b = int(input(\"Enter value of b\"))\n",
    "try:\n",
    "    c = a/b\n",
    "    print(c)\n",
    "except ZeroDivisionError:\n",
    "    print(\"b should not be a zero\")"
   ]
  },
  {
   "cell_type": "code",
   "execution_count": 4,
   "metadata": {},
   "outputs": [
    {
     "name": "stdout",
     "output_type": "stream",
     "text": [
      "wrong syntax\n",
      "10\n"
     ]
    }
   ],
   "source": [
    "a = int(input('Enter value of a'))\n",
    "b = int(input(\"Enter value of b\"))\n",
    "try:\n",
    "    c = a/b\n",
    "    print(c)\n",
    "except:\n",
    "    print(\"wrong syntax\")\n",
    "d = a +b\n",
    "print(d)"
   ]
  },
  {
   "cell_type": "code",
   "execution_count": 16,
   "metadata": {},
   "outputs": [
    {
     "name": "stdout",
     "output_type": "stream",
     "text": [
      "enter non-zero value in denominator\n",
      "0.0\n"
     ]
    }
   ],
   "source": [
    "while True:\n",
    "    try:\n",
    "        a = int(input('enter input a'))\n",
    "        b = int(input('enter input b'))\n",
    "        c = a/b\n",
    "        print(c)\n",
    "        break\n",
    "    except ZeroDivisionError:\n",
    "        print('enter non-zero value in denominator')\n",
    "    except ValueError:\n",
    "        print('enter only integer value')"
   ]
  },
  {
   "cell_type": "code",
   "execution_count": 1,
   "metadata": {},
   "outputs": [
    {
     "name": "stdout",
     "output_type": "stream",
     "text": [
      "division by zero\n",
      "2.0\n"
     ]
    }
   ],
   "source": [
    "while True:\n",
    "    try:\n",
    "        a = int(input('enter input a'))\n",
    "        b = int(input('enter input b'))\n",
    "        c = a/b\n",
    "        print(c)\n",
    "        break\n",
    "    except ZeroDivisionError as e:\n",
    "        print(e)"
   ]
  },
  {
   "cell_type": "code",
   "execution_count": 6,
   "metadata": {},
   "outputs": [
    {
     "name": "stdout",
     "output_type": "stream",
     "text": [
      "exception class: <class 'ZeroDivisionError'>\n",
      "exception message: division by zero\n",
      "line number 6\n"
     ]
    },
    {
     "name": "stderr",
     "output_type": "stream",
     "text": [
      "\n",
      "KeyboardInterrupt\n",
      "\n"
     ]
    }
   ],
   "source": [
    "import sys\n",
    "while True:\n",
    "    try:\n",
    "        a = int(input('enter input a'))\n",
    "        b = int(input('enter input b'))\n",
    "        c = a/b\n",
    "        print('div:',c)\n",
    "        break\n",
    "    except ZeroDivisionError as e:\n",
    "        a,b,c = sys.exc_info()\n",
    "        print('exception class:',a)\n",
    "        print('exception message:',b)\n",
    "        print('line number',c.tb_lineno)"
   ]
  },
  {
   "cell_type": "code",
   "execution_count": 10,
   "metadata": {},
   "outputs": [
    {
     "name": "stdout",
     "output_type": "stream",
     "text": [
      "0.000810898475510866\n"
     ]
    }
   ],
   "source": [
    "while True:\n",
    "    try:\n",
    "        a = int(input('first number:'))\n",
    "        b = int(input('second number:'))\n",
    "        if a<0 or b<0: \n",
    "            raise Exception('neg no not allowed')\n",
    "        c = a/b\n",
    "        print(c)\n",
    "        break\n",
    "    except ValueError:\n",
    "        print('please enter int only')\n",
    "    except ZeroDivisionError:\n",
    "        print('Please enter non zero denominator')\n",
    "    except Exception as e:\n",
    "        print(e)"
   ]
  },
  {
   "cell_type": "code",
   "execution_count": 11,
   "metadata": {},
   "outputs": [],
   "source": [
    "class Negativenumberexception(Exception):\n",
    "    pass"
   ]
  },
  {
   "cell_type": "code",
   "execution_count": 14,
   "metadata": {},
   "outputs": [
    {
     "name": "stdout",
     "output_type": "stream",
     "text": [
      "1.1111111111111112\n"
     ]
    }
   ],
   "source": [
    "# custom exception\n",
    "while True:\n",
    "    try:\n",
    "        a = int(input('first number:'))\n",
    "        b = int(input('second number:'))\n",
    "        if a<0 or b<0: \n",
    "            raise Negativenumberexception('neg number not allowed')\n",
    "        c = a/b\n",
    "        print(c)\n",
    "        \n",
    "        break\n",
    "    except ValueError:\n",
    "        print('please enter int only')\n",
    "    except ZeroDivisionError:\n",
    "        print('Please enter non zero denominator')\n",
    "    except Exception as e:\n",
    "        print(e)"
   ]
  },
  {
   "cell_type": "code",
   "execution_count": 15,
   "metadata": {},
   "outputs": [
    {
     "name": "stdout",
     "output_type": "stream",
     "text": [
      "dont use zero in denominator\n",
      "hello\n"
     ]
    }
   ],
   "source": [
    "# final block\n",
    "try:\n",
    "    a = int(input('first number:'))\n",
    "    b = int(input('second number:'))\n",
    "    c = a/b\n",
    "    print(c)\n",
    "except:\n",
    "    print(\"dont use zero in denominator\")\n",
    "finally:\n",
    "    print('hello')"
   ]
  },
  {
   "cell_type": "code",
   "execution_count": null,
   "metadata": {},
   "outputs": [],
   "source": []
  }
 ],
 "metadata": {
  "interpreter": {
   "hash": "780a354d57c8e214d9717ce5db3cb79ec448e2663d29d7e7694b88eee37d2c96"
  },
  "kernelspec": {
   "display_name": "Python 3.10.1 64-bit",
   "language": "python",
   "name": "python3"
  },
  "language_info": {
   "codemirror_mode": {
    "name": "ipython",
    "version": 3
   },
   "file_extension": ".py",
   "mimetype": "text/x-python",
   "name": "python",
   "nbconvert_exporter": "python",
   "pygments_lexer": "ipython3",
   "version": "3.10.1"
  },
  "orig_nbformat": 4
 },
 "nbformat": 4,
 "nbformat_minor": 2
}
